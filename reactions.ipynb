{
 "cells": [
  {
   "cell_type": "markdown",
   "metadata": {},
   "source": [
    "# Reactions\n",
    "\n",
    "Let's look at the rocdev reactions data.  A reaction is when you `:+1:` someone's post, etc."
   ]
  },
  {
   "cell_type": "code",
   "execution_count": 1,
   "metadata": {},
   "outputs": [],
   "source": [
    "import pyspark.sql.functions as F\n",
    "df = spark.read.parquet('parquet_data/rocdev/events.parquet')\n",
    "username_df = spark.read.parquet('parquet_data/rocdev/users.parquet').select('id', 'name')"
   ]
  },
  {
   "cell_type": "markdown",
   "metadata": {},
   "source": [
    "The reactions data is stored in a list as a nested struct.  To make it a little more analysis-friendly, let's flatten it a bit.  I'm going to arbitrarily choose the nomenclature as \"reactor\" being the person that reacts and \"reactee\" being the author of the original message."
   ]
  },
  {
   "cell_type": "code",
   "execution_count": 2,
   "metadata": {},
   "outputs": [
    {
     "name": "stdout",
     "output_type": "stream",
     "text": [
      "+---------+---------------+---------+\n",
      "|  reactee|       reaction|  reactor|\n",
      "+---------+---------------+---------+\n",
      "|U9R2EFXJS|      bitbucket|U3ZJRAKTQ|\n",
      "|U9R2EFXJS|      bitbucket|U7BH6855H|\n",
      "|U9R2EFXJS|      bitbucket|UAW7CMX38|\n",
      "|U9R2EFXJS|      bitbucket|U3P40Q1FW|\n",
      "|U07SZRSTT|            roc|U3P40Q1FW|\n",
      "|U9LGXCBGD|heavy_plus_sign|U07SZRSTT|\n",
      "|U9LGXCBGD|heavy_plus_sign|UAD2W717S|\n",
      "|U9LGXCBGD|heavy_plus_sign|U7BH6855H|\n",
      "|U2N2GT82Y|             +1|UAKK3Q7B7|\n",
      "|U2N2GT82Y|             +1|U3P40Q1FW|\n",
      "|U07JAHMJ8|     sunglasses|U60T51VNU|\n",
      "|U07FATBEW|           clap|U07SZRSTT|\n",
      "|U07FATBEW|           clap|U3ZJRAKTQ|\n",
      "|U07FATBEW|           clap|U3P40Q1FW|\n",
      "|U3P40Q1FW|          metal|U0DT3B3MW|\n",
      "|U3P40Q1FW|          metal|U07FATBEW|\n",
      "|U3P40Q1FW|       laughing|U07FATBEW|\n",
      "|U07ER9E75|           clap|U3ZJRAKTQ|\n",
      "|U07ER9E75|           clap|U080D2GSK|\n",
      "|U07ER9E75|           clap|U07SZRSTT|\n",
      "+---------+---------------+---------+\n",
      "only showing top 20 rows\n",
      "\n"
     ]
    }
   ],
   "source": [
    "reacts_df = df\\\n",
    "    .select('user', F.explode('reactions').alias('reaction'))\\\n",
    "    .select('user', F.col('reaction.name').alias('reaction'), 'reaction.users')\\\n",
    "    .select(F.col('user').alias('reactee'), 'reaction', F.explode('users').alias('reactor'))\\\n",
    "    .dropna()\n",
    "reacts_df.show()"
   ]
  },
  {
   "cell_type": "markdown",
   "metadata": {},
   "source": [
    "What are the most commonly-used reactions?"
   ]
  },
  {
   "cell_type": "code",
   "execution_count": 3,
   "metadata": {},
   "outputs": [
    {
     "name": "stdout",
     "output_type": "stream",
     "text": [
      "+--------------------+-----+\n",
      "|            reaction|count|\n",
      "+--------------------+-----+\n",
      "|                  +1| 5765|\n",
      "|                 100| 4128|\n",
      "|                 joy| 2501|\n",
      "|            laughing| 1760|\n",
      "|     heavy_plus_sign| 1668|\n",
      "|                wave| 1657|\n",
      "|            point_up| 1065|\n",
      "|               heart|  657|\n",
      "|                clap|  604|\n",
      "|                tada|  549|\n",
      "|         partyparrot|  411|\n",
      "|           trollface|  371|\n",
      "|          point_up_2|  352|\n",
      "|        raised_hands|  348|\n",
      "|               smile|  335|\n",
      "|       thinking_face|  269|\n",
      "|                fire|  261|\n",
      "|rolling_on_the_fl...|  239|\n",
      "|        disappointed|  209|\n",
      "|              joysob|  187|\n",
      "+--------------------+-----+\n",
      "only showing top 20 rows\n",
      "\n"
     ]
    }
   ],
   "source": [
    "reacts_df.\\\n",
    "    groupBy('reaction').\\\n",
    "    count().\\\n",
    "    orderBy(F.col('count').desc()).\\\n",
    "    show()"
   ]
  },
  {
   "cell_type": "markdown",
   "metadata": {},
   "source": [
    "Nothing too surprising here.  AFAIK `joysob` is a rocdev creation, so that's pretty neat to see in the top 20.\n",
    "\n",
    "Let's see who reacts to whom the most."
   ]
  },
  {
   "cell_type": "code",
   "execution_count": 4,
   "metadata": {},
   "outputs": [
    {
     "name": "stdout",
     "output_type": "stream",
     "text": [
      "+--------------+--------------+-----+\n",
      "|       reactee|       reactor|count|\n",
      "+--------------+--------------+-----+\n",
      "|        geowa4|     edgriebel|  276|\n",
      "|        geowa4|kristen.gdiroc|  252|\n",
      "|       ajvulaj|     edgriebel|  223|\n",
      "|        geowa4|valentinaperic|  217|\n",
      "|        geowa4|brandonramirez|  205|\n",
      "|  iamkirkbater|     edgriebel|  174|\n",
      "|brandonramirez|     edgriebel|  146|\n",
      "|kristen.gdiroc|valentinaperic|  144|\n",
      "|kristen.gdiroc|        travis|  139|\n",
      "|      coderjoe|     edgriebel|  138|\n",
      "|         bking|kristen.gdiroc|  136|\n",
      "|        fletch|     edgriebel|  135|\n",
      "|        geowa4|      coderjoe|  126|\n",
      "|         jfine|     edgriebel|  126|\n",
      "|      mhodesty|     edgriebel|  124|\n",
      "|kristen.gdiroc|     edgriebel|  119|\n",
      "|        bvulaj|     edgriebel|  117|\n",
      "|        geowa4|        travis|  115|\n",
      "|      coderjoe|kristen.gdiroc|  107|\n",
      "|     dantswain|kristen.gdiroc|  107|\n",
      "+--------------+--------------+-----+\n",
      "only showing top 20 rows\n",
      "\n"
     ]
    }
   ],
   "source": [
    "reacts_df\\\n",
    "    .groupBy('reactee', 'reactor')\\\n",
    "    .count()\\\n",
    "    .orderBy(F.col('count').desc())\\\n",
    "    .join(username_df, F.col('reactee') == F.col('id'))\\\n",
    "    .select(F.col('name').alias('reactee'), F.col('reactor'), F.col('count'))\\\n",
    "    .join(username_df, F.col('reactor') == F.col('id'))\\\n",
    "    .select('reactee', F.col('name').alias('reactor'), F.col('count'))\\\n",
    "    .show()"
   ]
  },
  {
   "cell_type": "markdown",
   "metadata": {},
   "source": [
    "Everyone loves reacting to George, apparently.  Let's see who the most reacted-to people are in general."
   ]
  },
  {
   "cell_type": "code",
   "execution_count": 5,
   "metadata": {},
   "outputs": [
    {
     "name": "stdout",
     "output_type": "stream",
     "text": [
      "+--------------+-----+\n",
      "|       reactee|count|\n",
      "+--------------+-----+\n",
      "|        geowa4| 3140|\n",
      "|kristen.gdiroc| 1707|\n",
      "|  iamkirkbater| 1372|\n",
      "|       ajvulaj| 1109|\n",
      "|         jfine| 1086|\n",
      "|      coderjoe| 1026|\n",
      "|brandonramirez|  962|\n",
      "|     dantswain|  949|\n",
      "|        bvulaj|  896|\n",
      "|        travis|  811|\n",
      "|valentinaperic|  777|\n",
      "|        fletch|  759|\n",
      "|    timpoulsen|  742|\n",
      "|        nwagar|  723|\n",
      "|      mhodesty|  681|\n",
      "|         bking|  662|\n",
      "|     edgriebel|  645|\n",
      "|     chrisolin|  633|\n",
      "|      ptomblin|  461|\n",
      "|        meganb|  437|\n",
      "+--------------+-----+\n",
      "only showing top 20 rows\n",
      "\n"
     ]
    }
   ],
   "source": [
    "reacts_df\\\n",
    "    .groupBy('reactee')\\\n",
    "    .count()\\\n",
    "    .orderBy(F.col('count').desc())\\\n",
    "    .join(username_df, F.col('reactee') == F.col('id'))\\\n",
    "    .select(F.col('name').alias('reactee'), F.col('count'))\\\n",
    "    .show()"
   ]
  },
  {
   "cell_type": "markdown",
   "metadata": {},
   "source": [
    "Yep.  George by a big margin.  Who does the most reacting?"
   ]
  },
  {
   "cell_type": "code",
   "execution_count": 6,
   "metadata": {},
   "outputs": [
    {
     "name": "stdout",
     "output_type": "stream",
     "text": [
      "+--------------------+-----+\n",
      "|             reactor|count|\n",
      "+--------------------+-----+\n",
      "|           edgriebel| 3194|\n",
      "|      kristen.gdiroc| 2504|\n",
      "|      valentinaperic| 1594|\n",
      "|              travis| 1537|\n",
      "|      brandonramirez| 1335|\n",
      "|              meganb| 1207|\n",
      "|               jfine| 1108|\n",
      "|            coderjoe| 1019|\n",
      "|              geowa4|  942|\n",
      "|        iamkirkbater|  897|\n",
      "|stephaniemorillo....|  865|\n",
      "|           chrisolin|  841|\n",
      "|              fletch|  832|\n",
      "|              zmyaro|  792|\n",
      "|             ajvulaj|  632|\n",
      "|            anielamw|  486|\n",
      "|       nerdofthunder|  442|\n",
      "|            scottish|  436|\n",
      "|           dantswain|  431|\n",
      "|              bvulaj|  407|\n",
      "+--------------------+-----+\n",
      "only showing top 20 rows\n",
      "\n"
     ]
    }
   ],
   "source": [
    "reacts_df\\\n",
    "    .groupBy('reactor')\\\n",
    "    .count()\\\n",
    "    .orderBy(F.col('count').desc())\\\n",
    "    .join(username_df, F.col('reactor') == F.col('id'))\\\n",
    "    .select(F.col('name').alias('reactor'), F.col('count'))\\\n",
    "    .show()"
   ]
  },
  {
   "cell_type": "markdown",
   "metadata": {},
   "source": [
    "Ed wins here, though Kristen is not _super_ far behind him.  What reactions do these people use most often when they do react?"
   ]
  },
  {
   "cell_type": "code",
   "execution_count": 7,
   "metadata": {},
   "outputs": [
    {
     "name": "stdout",
     "output_type": "stream",
     "text": [
      "+--------------------+------------+-----+\n",
      "|             reactor|top_reaction|count|\n",
      "+--------------------+------------+-----+\n",
      "|           edgriebel|          +1| 3194|\n",
      "|      kristen.gdiroc|         100| 2504|\n",
      "|      valentinaperic|         100| 1594|\n",
      "|              travis|          +1| 1537|\n",
      "|      brandonramirez|          +1| 1335|\n",
      "|              meganb|         joy| 1207|\n",
      "|               jfine|         100| 1108|\n",
      "|            coderjoe|          +1| 1019|\n",
      "|              geowa4|        wave|  942|\n",
      "|        iamkirkbater|         100|  897|\n",
      "|stephaniemorillo....|         100|  865|\n",
      "|           chrisolin|         100|  841|\n",
      "|              fletch|    laughing|  832|\n",
      "|              zmyaro|        wave|  792|\n",
      "|             ajvulaj|         100|  632|\n",
      "|            anielamw|         100|  486|\n",
      "|       nerdofthunder|         100|  442|\n",
      "|            scottish|          +1|  436|\n",
      "|           dantswain|          +1|  431|\n",
      "|              bvulaj|         100|  407|\n",
      "+--------------------+------------+-----+\n",
      "only showing top 20 rows\n",
      "\n"
     ]
    }
   ],
   "source": [
    "from pyspark.sql.window import Window\n",
    "\n",
    "# get reaction counts by user and reaction\n",
    "reactions_by_user_df = reacts_df.\\\n",
    "    groupBy('reactor', 'reaction').\\\n",
    "    count().\\\n",
    "    withColumnRenamed('count', 'reaction_count')\n",
    "\n",
    "# window over each user and rank their usage of each reaction\n",
    "window = Window.partitionBy('reactor').orderBy(F.col('reaction_count').desc())\n",
    "top_reaction_df = reactions_by_user_df.\\\n",
    "    select('*', F.dense_rank().over(window).alias('rank')).\\\n",
    "    filter(F.col('rank') == 1).\\\n",
    "    withColumnRenamed('reaction', 'top_reaction')\n",
    "\n",
    "# find how many times each user has reacted\n",
    "reaction_counts_by_user_df = reacts_df\\\n",
    "    .groupBy('reactor')\\\n",
    "    .count()\n",
    "\n",
    "# join with the top reaction df (and username) to see both things\n",
    "reaction_counts_by_user_df\\\n",
    "    .join(top_reaction_df, on=['reactor'])\\\n",
    "    .join(username_df, F.col('reactor') == F.col('id'))\\\n",
    "    .select(F.col('name').alias('reactor'), F.col('top_reaction'), F.col('count'))\\\n",
    "    .orderBy(F.col('count').desc())\\\n",
    "    .show()"
   ]
  },
  {
   "cell_type": "markdown",
   "metadata": {},
   "source": [
    "Interesting things that stand out to me:\n",
    "\n",
    "* Megan and Fletch are always laughing, which is great.\n",
    "* George is always welcoming new folks."
   ]
  },
  {
   "cell_type": "code",
   "execution_count": null,
   "metadata": {},
   "outputs": [],
   "source": []
  }
 ],
 "metadata": {
  "kernelspec": {
   "display_name": "Python 3",
   "language": "python",
   "name": "python3"
  },
  "language_info": {
   "codemirror_mode": {
    "name": "ipython",
    "version": 3
   },
   "file_extension": ".py",
   "mimetype": "text/x-python",
   "name": "python",
   "nbconvert_exporter": "python",
   "pygments_lexer": "ipython3",
   "version": "3.6.8"
  }
 },
 "nbformat": 4,
 "nbformat_minor": 2
}
